{
  "nbformat": 4,
  "nbformat_minor": 0,
  "metadata": {
    "colab": {
      "name": "GAN.ipynb",
      "version": "0.3.2",
      "provenance": [],
      "include_colab_link": true
    },
    "kernelspec": {
      "name": "python3",
      "display_name": "Python 3"
    },
    "accelerator": "GPU"
  },
  "cells": [
    {
      "cell_type": "markdown",
      "metadata": {
        "id": "view-in-github",
        "colab_type": "text"
      },
      "source": [
        "<a href=\"https://colab.research.google.com/github/xhxuciedu/CS175/blob/master/GAN.ipynb\" target=\"_parent\"><img src=\"https://colab.research.google.com/assets/colab-badge.svg\" alt=\"Open In Colab\"/></a>"
      ]
    },
    {
      "metadata": {
        "id": "kdjeinjn5Cv7",
        "colab_type": "code",
        "colab": {}
      },
      "cell_type": "code",
      "source": [
        "import os\n",
        "import torch\n",
        "import torchvision\n",
        "import torch.nn as nn\n",
        "from torchvision import transforms\n",
        "from torchvision.utils import save_image\n",
        "import matplotlib.pylab as plt"
      ],
      "execution_count": 0,
      "outputs": []
    },
    {
      "metadata": {
        "id": "OS4KoXyj5Hkp",
        "colab_type": "code",
        "colab": {
          "base_uri": "https://localhost:8080/",
          "height": 34
        },
        "outputId": "f42fd7af-93d1-4bc9-8f90-afc35de359c8"
      },
      "cell_type": "code",
      "source": [
        "# Device configuration\n",
        "device = torch.device('cuda' if torch.cuda.is_available() else 'cpu')\n",
        "print(device)"
      ],
      "execution_count": 2,
      "outputs": [
        {
          "output_type": "stream",
          "text": [
            "cuda\n"
          ],
          "name": "stdout"
        }
      ]
    },
    {
      "metadata": {
        "id": "vnX3yNnH5_YC",
        "colab_type": "code",
        "colab": {
          "base_uri": "https://localhost:8080/",
          "height": 306
        },
        "outputId": "ed4b2b51-34be-4e83-a607-299b0c654858"
      },
      "cell_type": "code",
      "source": [
        "!nvidia-smi"
      ],
      "execution_count": 4,
      "outputs": [
        {
          "output_type": "stream",
          "text": [
            "Wed Mar  6 16:48:32 2019       \n",
            "+-----------------------------------------------------------------------------+\n",
            "| NVIDIA-SMI 410.79       Driver Version: 410.79       CUDA Version: 10.0     |\n",
            "|-------------------------------+----------------------+----------------------+\n",
            "| GPU  Name        Persistence-M| Bus-Id        Disp.A | Volatile Uncorr. ECC |\n",
            "| Fan  Temp  Perf  Pwr:Usage/Cap|         Memory-Usage | GPU-Util  Compute M. |\n",
            "|===============================+======================+======================|\n",
            "|   0  Tesla K80           Off  | 00000000:00:04.0 Off |                    0 |\n",
            "| N/A   33C    P8    30W / 149W |     11MiB / 11441MiB |      0%      Default |\n",
            "+-------------------------------+----------------------+----------------------+\n",
            "                                                                               \n",
            "+-----------------------------------------------------------------------------+\n",
            "| Processes:                                                       GPU Memory |\n",
            "|  GPU       PID   Type   Process name                             Usage      |\n",
            "|=============================================================================|\n",
            "|  No running processes found                                                 |\n",
            "+-----------------------------------------------------------------------------+\n"
          ],
          "name": "stdout"
        }
      ]
    },
    {
      "metadata": {
        "id": "jUHmNlT04rsP",
        "colab_type": "code",
        "colab": {}
      },
      "cell_type": "code",
      "source": [
        "# Hyper-parameters\n",
        "latent_size = 64\n",
        "hidden_size = 256\n",
        "image_size = 784\n",
        "num_epochs = 100\n",
        "batch_size = 100\n",
        "sample_dir = 'samples'\n",
        "\n",
        "# Create a directory if not exists\n",
        "if not os.path.exists(sample_dir):\n",
        "    os.makedirs(sample_dir)\n",
        "\n",
        "# Image processing\n",
        "transform = transforms.Compose([\n",
        "                transforms.ToTensor(),\n",
        "                #transforms.Normalize(mean=(0.5, 0.5, 0.5),   # 3 for RGB channels\n",
        "                #                     std=(0.5, 0.5, 0.5))\n",
        "            ])\n",
        "\n",
        "# MNIST dataset\n",
        "mnist = torchvision.datasets.MNIST(root='../../data/',\n",
        "                                   train=True,\n",
        "                                   transform=transform,\n",
        "                                   download=True)\n",
        "\n",
        "# Data loader\n",
        "data_loader = torch.utils.data.DataLoader(dataset=mnist,\n",
        "                                          batch_size=batch_size, \n",
        "                                          shuffle=True)\n"
      ],
      "execution_count": 0,
      "outputs": []
    },
    {
      "metadata": {
        "id": "AIr_7gD36dx7",
        "colab_type": "code",
        "colab": {}
      },
      "cell_type": "code",
      "source": [
        "tmp = iter(data_loader).next()"
      ],
      "execution_count": 0,
      "outputs": []
    },
    {
      "metadata": {
        "id": "ciKd5iEG81Ie",
        "colab_type": "code",
        "colab": {
          "base_uri": "https://localhost:8080/",
          "height": 34
        },
        "outputId": "1962bcdd-e90e-4ef2-a062-ebfe96e5bac6"
      },
      "cell_type": "code",
      "source": [
        "tmp[0][0,0].min(), tmp[0][0,0].max()"
      ],
      "execution_count": 32,
      "outputs": [
        {
          "output_type": "execute_result",
          "data": {
            "text/plain": [
              "(tensor(0.), tensor(1.))"
            ]
          },
          "metadata": {
            "tags": []
          },
          "execution_count": 32
        }
      ]
    },
    {
      "metadata": {
        "id": "OCMt8Xvp7NOc",
        "colab_type": "code",
        "colab": {
          "base_uri": "https://localhost:8080/",
          "height": 364
        },
        "outputId": "81bc7e8b-0417-466e-e19a-05508edf072a"
      },
      "cell_type": "code",
      "source": [
        "plt.imshow(tmp[0][0,0])"
      ],
      "execution_count": 30,
      "outputs": [
        {
          "output_type": "execute_result",
          "data": {
            "text/plain": [
              "<matplotlib.image.AxesImage at 0x7f6c699ad588>"
            ]
          },
          "metadata": {
            "tags": []
          },
          "execution_count": 30
        },
        {
          "output_type": "display_data",
          "data": {
            "image/png": "[encoded data removed]",
            "text/plain": [
              "<Figure size 576x396 with 1 Axes>"
            ]
          },
          "metadata": {
            "tags": []
          }
        }
      ]
    },
    {
      "metadata": {
        "id": "vKNiRocz5Pkh",
        "colab_type": "code",
        "colab": {}
      },
      "cell_type": "code",
      "source": [
        "# Discriminator\n",
        "D = nn.Sequential(\n",
        "    nn.Linear(image_size, hidden_size),\n",
        "    nn.LeakyReLU(0.2),\n",
        "    nn.Linear(hidden_size, hidden_size),\n",
        "    nn.LeakyReLU(0.2),\n",
        "    nn.Linear(hidden_size, 1),\n",
        "    nn.Sigmoid())\n",
        "\n",
        "# Generator \n",
        "G = nn.Sequential(\n",
        "    nn.Linear(latent_size, hidden_size),\n",
        "    nn.ReLU(),\n",
        "    nn.Linear(hidden_size, hidden_size),\n",
        "    nn.ReLU(),\n",
        "    nn.Linear(hidden_size, image_size),\n",
        "    nn.Sigmoid())\n",
        "\n",
        "# Device setting\n",
        "D = D.to(device)\n",
        "G = G.to(device)"
      ],
      "execution_count": 0,
      "outputs": []
    },
    {
      "metadata": {
        "id": "exK-tvv05Bdx",
        "colab_type": "code",
        "colab": {}
      },
      "cell_type": "code",
      "source": [
        "# Binary cross entropy loss and optimizer\n",
        "criterion = nn.BCELoss()\n",
        "d_optimizer = torch.optim.Adam(D.parameters(), lr=0.0002)\n",
        "g_optimizer = torch.optim.Adam(G.parameters(), lr=0.0002)\n",
        "\n",
        "def denorm(x):\n",
        "    out = (x + 1) / 2\n",
        "    return out.clamp(0, 1)\n",
        "\n",
        "def reset_grad():\n",
        "    d_optimizer.zero_grad()\n",
        "    g_optimizer.zero_grad()"
      ],
      "execution_count": 0,
      "outputs": []
    },
    {
      "metadata": {
        "id": "x8DhYbE249BR",
        "colab_type": "code",
        "colab": {
          "base_uri": "https://localhost:8080/",
          "height": 663
        },
        "outputId": "4500772b-a645-453e-d341-93aa2f2b5970"
      },
      "cell_type": "code",
      "source": [
        "# Start training\n",
        "total_step = len(data_loader)\n",
        "for epoch in range(num_epochs):\n",
        "    for i, (images, _) in enumerate(data_loader):\n",
        "        images = images.reshape(batch_size, -1).to(device)\n",
        "        \n",
        "        # Create the labels which are later used as input for the BCE loss\n",
        "        real_labels = torch.ones(batch_size, 1).to(device)\n",
        "        fake_labels = torch.zeros(batch_size, 1).to(device)\n",
        "\n",
        "        # ================================================================== #\n",
        "        #                      Train the discriminator                       #\n",
        "        # ================================================================== #\n",
        "\n",
        "        # Compute BCE_Loss using real images where BCE_Loss(x, y): - y * log(D(x)) - (1-y) * log(1 - D(x))\n",
        "        # Second term of the loss is always zero since real_labels == 1\n",
        "        outputs = D(images)\n",
        "        d_loss_real = criterion(outputs, real_labels)\n",
        "        real_score = outputs\n",
        "        \n",
        "        # Compute BCELoss using fake images\n",
        "        # First term of the loss is always zero since fake_labels == 0\n",
        "        z = torch.randn(batch_size, latent_size).to(device)\n",
        "        fake_images = G(z)\n",
        "        outputs = D(fake_images)\n",
        "        d_loss_fake = criterion(outputs, fake_labels)\n",
        "        fake_score = outputs\n",
        "        \n",
        "        # Backprop and optimize\n",
        "        d_loss = d_loss_real + d_loss_fake\n",
        "        reset_grad()\n",
        "        d_loss.backward()\n",
        "        d_optimizer.step()\n",
        "        \n",
        "        # ================================================================== #\n",
        "        #                        Train the generator                         #\n",
        "        # ================================================================== #\n",
        "\n",
        "        # Compute loss with fake images\n",
        "        z = torch.randn(batch_size, latent_size).to(device)\n",
        "        fake_images = G(z)\n",
        "        outputs = D(fake_images)\n",
        "        \n",
        "        # We train G to maximize log(D(G(z)) instead of minimizing log(1-D(G(z)))\n",
        "        # For the reason, see the last paragraph of section 3. https://arxiv.org/pdf/1406.2661.pdf\n",
        "        g_loss = criterion(outputs, real_labels)\n",
        "        \n",
        "        # Backprop and optimize\n",
        "        reset_grad()\n",
        "        g_loss.backward()\n",
        "        g_optimizer.step()\n",
        "        \n",
        "        if (i+1) % 200 == 0:\n",
        "            print('Epoch [{}/{}], Step [{}/{}], d_loss: {:.4f}, g_loss: {:.4f}, D(x): {:.2f}, D(G(z)): {:.2f}' \n",
        "                  .format(epoch, num_epochs, i+1, total_step, d_loss.item(), g_loss.item(), \n",
        "                          real_score.mean().item(), fake_score.mean().item()))\n",
        "    # Save real images\n",
        "    if (epoch+1) == 1:\n",
        "        images = images.reshape(images.size(0), 1, 28, 28)\n",
        "        save_image(denorm(images), os.path.join(sample_dir, 'real_images.png'))\n",
        "    \n",
        "    # Save sampled images\n",
        "    fake_images = fake_images.reshape(fake_images.size(0), 1, 28, 28)\n",
        "    save_image(denorm(fake_images), os.path.join(sample_dir, 'fake_images-{}.png'.format(epoch+1)))\n"
      ],
      "execution_count": 0,
      "outputs": [
        {
          "output_type": "stream",
          "text": [
            "Epoch [0/100], Step [200/600], d_loss: 0.1008, g_loss: 5.1739, D(x): 0.96, D(G(z)): 0.03\n",
            "Epoch [0/100], Step [400/600], d_loss: 0.0527, g_loss: 5.5509, D(x): 0.97, D(G(z)): 0.02\n",
            "Epoch [0/100], Step [600/600], d_loss: 0.0076, g_loss: 6.4549, D(x): 1.00, D(G(z)): 0.01\n",
            "Epoch [1/100], Step [200/600], d_loss: 0.0147, g_loss: 6.0750, D(x): 0.99, D(G(z)): 0.00\n",
            "Epoch [1/100], Step [400/600], d_loss: 0.0037, g_loss: 7.6475, D(x): 1.00, D(G(z)): 0.00\n",
            "Epoch [1/100], Step [600/600], d_loss: 0.0077, g_loss: 7.0799, D(x): 0.99, D(G(z)): 0.00\n",
            "Epoch [2/100], Step [200/600], d_loss: 0.0053, g_loss: 6.8097, D(x): 1.00, D(G(z)): 0.00\n",
            "Epoch [2/100], Step [400/600], d_loss: 0.0011, g_loss: 7.4233, D(x): 1.00, D(G(z)): 0.00\n",
            "Epoch [2/100], Step [600/600], d_loss: 0.0028, g_loss: 6.8359, D(x): 1.00, D(G(z)): 0.00\n",
            "Epoch [3/100], Step [200/600], d_loss: 0.0034, g_loss: 7.9104, D(x): 1.00, D(G(z)): 0.00\n",
            "Epoch [3/100], Step [400/600], d_loss: 0.0040, g_loss: 6.9922, D(x): 1.00, D(G(z)): 0.00\n",
            "Epoch [3/100], Step [600/600], d_loss: 0.0016, g_loss: 7.9302, D(x): 1.00, D(G(z)): 0.00\n",
            "Epoch [4/100], Step [200/600], d_loss: 0.0016, g_loss: 7.1950, D(x): 1.00, D(G(z)): 0.00\n",
            "Epoch [4/100], Step [400/600], d_loss: 0.0038, g_loss: 8.3393, D(x): 1.00, D(G(z)): 0.00\n",
            "Epoch [4/100], Step [600/600], d_loss: 0.0900, g_loss: 6.8359, D(x): 0.99, D(G(z)): 0.00\n",
            "Epoch [5/100], Step [200/600], d_loss: 0.0024, g_loss: 8.0072, D(x): 1.00, D(G(z)): 0.00\n",
            "Epoch [5/100], Step [400/600], d_loss: 0.0106, g_loss: 7.8951, D(x): 1.00, D(G(z)): 0.01\n",
            "Epoch [5/100], Step [600/600], d_loss: 0.0134, g_loss: 5.5965, D(x): 1.00, D(G(z)): 0.01\n",
            "Epoch [6/100], Step [200/600], d_loss: 0.0213, g_loss: 8.2819, D(x): 0.99, D(G(z)): 0.00\n",
            "Epoch [6/100], Step [400/600], d_loss: 0.0050, g_loss: 8.8998, D(x): 1.00, D(G(z)): 0.00\n",
            "Epoch [6/100], Step [600/600], d_loss: 0.0528, g_loss: 6.7925, D(x): 0.99, D(G(z)): 0.01\n",
            "Epoch [7/100], Step [200/600], d_loss: 0.0506, g_loss: 8.4189, D(x): 0.99, D(G(z)): 0.00\n",
            "Epoch [7/100], Step [400/600], d_loss: 0.0332, g_loss: 10.8815, D(x): 0.98, D(G(z)): 0.00\n",
            "Epoch [7/100], Step [600/600], d_loss: 0.0026, g_loss: 8.0379, D(x): 1.00, D(G(z)): 0.00\n",
            "Epoch [8/100], Step [200/600], d_loss: 0.0051, g_loss: 7.5680, D(x): 1.00, D(G(z)): 0.00\n",
            "Epoch [8/100], Step [400/600], d_loss: 0.0026, g_loss: 9.1343, D(x): 1.00, D(G(z)): 0.00\n",
            "Epoch [8/100], Step [600/600], d_loss: 0.0064, g_loss: 7.6654, D(x): 1.00, D(G(z)): 0.01\n",
            "Epoch [9/100], Step [200/600], d_loss: 0.0004, g_loss: 13.3029, D(x): 1.00, D(G(z)): 0.00\n",
            "Epoch [9/100], Step [400/600], d_loss: 0.0020, g_loss: 9.8236, D(x): 1.00, D(G(z)): 0.00\n",
            "Epoch [9/100], Step [600/600], d_loss: 0.0028, g_loss: 8.3321, D(x): 1.00, D(G(z)): 0.00\n",
            "Epoch [10/100], Step [200/600], d_loss: 0.0048, g_loss: 9.1185, D(x): 1.00, D(G(z)): 0.00\n",
            "Epoch [10/100], Step [400/600], d_loss: 0.0130, g_loss: 8.8143, D(x): 1.00, D(G(z)): 0.01\n",
            "Epoch [10/100], Step [600/600], d_loss: 0.0953, g_loss: 9.8562, D(x): 0.99, D(G(z)): 0.01\n",
            "Epoch [11/100], Step [200/600], d_loss: 0.0056, g_loss: 8.7918, D(x): 1.00, D(G(z)): 0.00\n",
            "Epoch [11/100], Step [400/600], d_loss: 0.0034, g_loss: 8.1368, D(x): 1.00, D(G(z)): 0.00\n",
            "Epoch [11/100], Step [600/600], d_loss: 0.0016, g_loss: 8.3880, D(x): 1.00, D(G(z)): 0.00\n",
            "Epoch [12/100], Step [200/600], d_loss: 0.0031, g_loss: 9.3997, D(x): 1.00, D(G(z)): 0.00\n",
            "Epoch [12/100], Step [400/600], d_loss: 0.0189, g_loss: 7.7264, D(x): 1.00, D(G(z)): 0.02\n"
          ],
          "name": "stdout"
        }
      ]
    },
    {
      "metadata": {
        "id": "838FqfhF4xlK",
        "colab_type": "code",
        "colab": {}
      },
      "cell_type": "code",
      "source": [
        "# Save the model checkpoints \n",
        "torch.save(G.state_dict(), 'G.ckpt')\n",
        "torch.save(D.state_dict(), 'D.ckpt')"
      ],
      "execution_count": 0,
      "outputs": []
    },
    {
      "metadata": {
        "id": "Q_n2WdQr42oZ",
        "colab_type": "code",
        "colab": {}
      },
      "cell_type": "code",
      "source": [
        ""
      ],
      "execution_count": 0,
      "outputs": []
    },
    {
      "metadata": {
        "id": "HMRSc05U4z8g",
        "colab_type": "code",
        "colab": {}
      },
      "cell_type": "code",
      "source": [
        "# generate images\n",
        "z = torch.randn(10, latent_size).to(device)\n",
        "fake_images = G(z)"
      ],
      "execution_count": 0,
      "outputs": []
    },
    {
      "metadata": {
        "id": "8U_OpPsfPBL4",
        "colab_type": "code",
        "colab": {
          "base_uri": "https://localhost:8080/",
          "height": 321
        },
        "outputId": "fdfe2962-d9b4-4b9d-ce1b-59178afe2bcf"
      },
      "cell_type": "code",
      "source": [
        "fig, ax = plt.subplots(2,5, figsize=(15,5))\n",
        "for i in range(10):\n",
        "  ax[int(i/5), i%5].imshow(fake_images[i].view(28,28).cpu().detach().numpy())\n",
        "  ax[int(i/5), i%5].axis('off')"
      ],
      "execution_count": 83,
      "outputs": [
        {
          "output_type": "display_data",
          "data": {
            "image/png": "[encoded data removed]",
            "text/plain": [
              "<Figure size 1080x360 with 10 Axes>"
            ]
          },
          "metadata": {
            "tags": []
          }
        }
      ]
    },
    {
      "metadata": {
        "id": "AWJFprjAPCpw",
        "colab_type": "code",
        "colab": {
          "base_uri": "https://localhost:8080/",
          "height": 34
        },
        "outputId": "1d311e90-7ffa-4c20-dee0-8478dcbe3f4e"
      },
      "cell_type": "code",
      "source": [
        "i = 3\n",
        "int(i/4), i%4"
      ],
      "execution_count": 79,
      "outputs": [
        {
          "output_type": "execute_result",
          "data": {
            "text/plain": [
              "(0, 3)"
            ]
          },
          "metadata": {
            "tags": []
          },
          "execution_count": 79
        }
      ]
    },
    {
      "metadata": {
        "id": "4StlFR-FPgsK",
        "colab_type": "code",
        "colab": {
          "base_uri": "https://localhost:8080/",
          "height": 34
        },
        "outputId": "6ca99987-eac6-497b-ee1a-7f8d05534b83"
      },
      "cell_type": "code",
      "source": [
        "import numpy as np\n",
        "np.sqrt(784)"
      ],
      "execution_count": 42,
      "outputs": [
        {
          "output_type": "execute_result",
          "data": {
            "text/plain": [
              "28.0"
            ]
          },
          "metadata": {
            "tags": []
          },
          "execution_count": 42
        }
      ]
    },
    {
      "metadata": {
        "id": "5F3roviEPiqK",
        "colab_type": "code",
        "colab": {
          "base_uri": "https://localhost:8080/",
          "height": 34
        },
        "outputId": "fe77eb72-3959-442a-c097-7011a99e1654"
      },
      "cell_type": "code",
      "source": [
        "7%2, 7-2*(1%2)"
      ],
      "execution_count": 47,
      "outputs": [
        {
          "output_type": "execute_result",
          "data": {
            "text/plain": [
              "(1, 5)"
            ]
          },
          "metadata": {
            "tags": []
          },
          "execution_count": 47
        }
      ]
    },
    {
      "metadata": {
        "id": "pirsjKP9P2zj",
        "colab_type": "code",
        "colab": {}
      },
      "cell_type": "code",
      "source": [
        ""
      ],
      "execution_count": 0,
      "outputs": []
    }
  ]
}