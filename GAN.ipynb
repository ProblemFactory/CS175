{
  "nbformat": 4,
  "nbformat_minor": 0,
  "metadata": {
    "colab": {
      "name": "GAN.ipynb",
      "version": "0.3.2",
      "provenance": [],
      "include_colab_link": true
    },
    "kernelspec": {
      "name": "python3",
      "display_name": "Python 3"
    },
    "accelerator": "GPU"
  },
  "cells": [
    {
      "cell_type": "markdown",
      "metadata": {
        "id": "view-in-github",
        "colab_type": "text"
      },
      "source": [
        "<a href=\"https://colab.research.google.com/github/xhxuciedu/CS175/blob/master/GAN.ipynb\" target=\"_parent\"><img src=\"https://colab.research.google.com/assets/colab-badge.svg\" alt=\"Open In Colab\"/></a>"
      ]
    },
    {
      "metadata": {
        "id": "kdjeinjn5Cv7",
        "colab_type": "code",
        "colab": {}
      },
      "cell_type": "code",
      "source": [
        "import os\n",
        "import torch\n",
        "import torchvision\n",
        "import torch.nn as nn\n",
        "from torchvision import transforms\n",
        "from torchvision.utils import save_image\n",
        "import matplotlib.pylab as plt"
      ],
      "execution_count": 0,
      "outputs": []
    },
    {
      "metadata": {
        "id": "OS4KoXyj5Hkp",
        "colab_type": "code",
        "colab": {
          "base_uri": "https://localhost:8080/",
          "height": 34
        },
        "outputId": "f42fd7af-93d1-4bc9-8f90-afc35de359c8"
      },
      "cell_type": "code",
      "source": [
        "# Device configuration\n",
        "device = torch.device('cuda' if torch.cuda.is_available() else 'cpu')\n",
        "print(device)"
      ],
      "execution_count": 2,
      "outputs": [
        {
          "output_type": "stream",
          "text": [
            "cuda\n"
          ],
          "name": "stdout"
        }
      ]
    },
    {
      "metadata": {
        "id": "vnX3yNnH5_YC",
        "colab_type": "code",
        "colab": {
          "base_uri": "https://localhost:8080/",
          "height": 306
        },
        "outputId": "ed4b2b51-34be-4e83-a607-299b0c654858"
      },
      "cell_type": "code",
      "source": [
        "!nvidia-smi"
      ],
      "execution_count": 4,
      "outputs": [
        {
          "output_type": "stream",
          "text": [
            "Wed Mar  6 16:48:32 2019       \n",
            "+-----------------------------------------------------------------------------+\n",
            "| NVIDIA-SMI 410.79       Driver Version: 410.79       CUDA Version: 10.0     |\n",
            "|-------------------------------+----------------------+----------------------+\n",
            "| GPU  Name        Persistence-M| Bus-Id        Disp.A | Volatile Uncorr. ECC |\n",
            "| Fan  Temp  Perf  Pwr:Usage/Cap|         Memory-Usage | GPU-Util  Compute M. |\n",
            "|===============================+======================+======================|\n",
            "|   0  Tesla K80           Off  | 00000000:00:04.0 Off |                    0 |\n",
            "| N/A   33C    P8    30W / 149W |     11MiB / 11441MiB |      0%      Default |\n",
            "+-------------------------------+----------------------+----------------------+\n",
            "                                                                               \n",
            "+-----------------------------------------------------------------------------+\n",
            "| Processes:                                                       GPU Memory |\n",
            "|  GPU       PID   Type   Process name                             Usage      |\n",
            "|=============================================================================|\n",
            "|  No running processes found                                                 |\n",
            "+-----------------------------------------------------------------------------+\n"
          ],
          "name": "stdout"
        }
      ]
    },
    {
      "metadata": {
        "id": "jUHmNlT04rsP",
        "colab_type": "code",
        "colab": {}
      },
      "cell_type": "code",
      "source": [
        "# Hyper-parameters\n",
        "latent_size = 64\n",
        "hidden_size = 256\n",
        "image_size = 784\n",
        "num_epochs = 200\n",
        "batch_size = 100\n",
        "sample_dir = 'samples'\n",
        "\n",
        "# Create a directory if not exists\n",
        "if not os.path.exists(sample_dir):\n",
        "    os.makedirs(sample_dir)\n",
        "\n",
        "# Image processing\n",
        "transform = transforms.Compose([\n",
        "                transforms.ToTensor(),\n",
        "                #transforms.Normalize(mean=(0.5, 0.5, 0.5),   # 3 for RGB channels\n",
        "                #                     std=(0.5, 0.5, 0.5))\n",
        "            ])\n",
        "\n",
        "# MNIST dataset\n",
        "mnist = torchvision.datasets.MNIST(root='../../data/',\n",
        "                                   train=True,\n",
        "                                   transform=transform,\n",
        "                                   download=True)\n",
        "\n",
        "# Data loader\n",
        "data_loader = torch.utils.data.DataLoader(dataset=mnist,\n",
        "                                          batch_size=batch_size, \n",
        "                                          shuffle=True)\n"
      ],
      "execution_count": 0,
      "outputs": []
    },
    {
      "metadata": {
        "id": "AIr_7gD36dx7",
        "colab_type": "code",
        "colab": {}
      },
      "cell_type": "code",
      "source": [
        "tmp = iter(data_loader).next()"
      ],
      "execution_count": 0,
      "outputs": []
    },
    {
      "metadata": {
        "id": "ciKd5iEG81Ie",
        "colab_type": "code",
        "colab": {
          "base_uri": "https://localhost:8080/",
          "height": 34
        },
        "outputId": "1962bcdd-e90e-4ef2-a062-ebfe96e5bac6"
      },
      "cell_type": "code",
      "source": [
        "tmp[0][0,0].min(), tmp[0][0,0].max()"
      ],
      "execution_count": 32,
      "outputs": [
        {
          "output_type": "execute_result",
          "data": {
            "text/plain": [
              "(tensor(0.), tensor(1.))"
            ]
          },
          "metadata": {
            "tags": []
          },
          "execution_count": 32
        }
      ]
    },
    {
      "metadata": {
        "id": "OCMt8Xvp7NOc",
        "colab_type": "code",
        "colab": {
          "base_uri": "https://localhost:8080/",
          "height": 364
        },
        "outputId": "81bc7e8b-0417-466e-e19a-05508edf072a"
      },
      "cell_type": "code",
      "source": [
        "plt.imshow(tmp[0][0,0])"
      ],
      "execution_count": 30,
      "outputs": [
        {
          "output_type": "execute_result",
          "data": {
            "text/plain": [
              "<matplotlib.image.AxesImage at 0x7f6c699ad588>"
            ]
          },
          "metadata": {
            "tags": []
          },
          "execution_count": 30
        },
        {
          "output_type": "display_data",
          "data": {
            "image/png": "[encoded data removed]",
            "text/plain": [
              "<Figure size 576x396 with 1 Axes>"
            ]
          },
          "metadata": {
            "tags": []
          }
        }
      ]
    },
    {
      "metadata": {
        "id": "vKNiRocz5Pkh",
        "colab_type": "code",
        "colab": {}
      },
      "cell_type": "code",
      "source": [
        "# Discriminator\n",
        "D = nn.Sequential(\n",
        "    nn.Linear(image_size, hidden_size),\n",
        "    nn.LeakyReLU(0.2),\n",
        "    nn.Linear(hidden_size, hidden_size),\n",
        "    nn.LeakyReLU(0.2),\n",
        "    nn.Linear(hidden_size, 1),\n",
        "    nn.Sigmoid())\n",
        "\n",
        "# Generator \n",
        "G = nn.Sequential(\n",
        "    nn.Linear(latent_size, hidden_size),\n",
        "    nn.ReLU(),\n",
        "    nn.Linear(hidden_size, hidden_size),\n",
        "    nn.ReLU(),\n",
        "    nn.Linear(hidden_size, image_size),\n",
        "    nn.Tanh())\n",
        "\n",
        "# Device setting\n",
        "D = D.to(device)\n",
        "G = G.to(device)"
      ],
      "execution_count": 0,
      "outputs": []
    },
    {
      "metadata": {
        "id": "exK-tvv05Bdx",
        "colab_type": "code",
        "colab": {}
      },
      "cell_type": "code",
      "source": [
        "# Binary cross entropy loss and optimizer\n",
        "criterion = nn.BCELoss()\n",
        "d_optimizer = torch.optim.Adam(D.parameters(), lr=0.0002)\n",
        "g_optimizer = torch.optim.Adam(G.parameters(), lr=0.0002)\n",
        "\n",
        "def denorm(x):\n",
        "    out = (x + 1) / 2\n",
        "    return out.clamp(0, 1)\n",
        "\n",
        "def reset_grad():\n",
        "    d_optimizer.zero_grad()\n",
        "    g_optimizer.zero_grad()"
      ],
      "execution_count": 0,
      "outputs": []
    },
    {
      "metadata": {
        "id": "x8DhYbE249BR",
        "colab_type": "code",
        "colab": {
          "base_uri": "https://localhost:8080/",
          "height": 4097
        },
        "outputId": "af4971ac-4374-467e-fa6d-54c5b0abd7bd"
      },
      "cell_type": "code",
      "source": [
        "# Start training\n",
        "total_step = len(data_loader)\n",
        "for epoch in range(num_epochs):\n",
        "    for i, (images, _) in enumerate(data_loader):\n",
        "        images = images.reshape(batch_size, -1).to(device)\n",
        "        \n",
        "        # Create the labels which are later used as input for the BCE loss\n",
        "        real_labels = torch.ones(batch_size, 1).to(device)\n",
        "        fake_labels = torch.zeros(batch_size, 1).to(device)\n",
        "\n",
        "        # ================================================================== #\n",
        "        #                      Train the discriminator                       #\n",
        "        # ================================================================== #\n",
        "\n",
        "        # Compute BCE_Loss using real images where BCE_Loss(x, y): - y * log(D(x)) - (1-y) * log(1 - D(x))\n",
        "        # Second term of the loss is always zero since real_labels == 1\n",
        "        outputs = D(images)\n",
        "        d_loss_real = criterion(outputs, real_labels)\n",
        "        real_score = outputs\n",
        "        \n",
        "        # Compute BCELoss using fake images\n",
        "        # First term of the loss is always zero since fake_labels == 0\n",
        "        z = torch.randn(batch_size, latent_size).to(device)\n",
        "        fake_images = G(z)\n",
        "        outputs = D(fake_images)\n",
        "        d_loss_fake = criterion(outputs, fake_labels)\n",
        "        fake_score = outputs\n",
        "        \n",
        "        # Backprop and optimize\n",
        "        d_loss = d_loss_real + d_loss_fake\n",
        "        reset_grad()\n",
        "        d_loss.backward()\n",
        "        d_optimizer.step()\n",
        "        \n",
        "        # ================================================================== #\n",
        "        #                        Train the generator                         #\n",
        "        # ================================================================== #\n",
        "\n",
        "        # Compute loss with fake images\n",
        "        z = torch.randn(batch_size, latent_size).to(device)\n",
        "        fake_images = G(z)\n",
        "        outputs = D(fake_images)\n",
        "        \n",
        "        # We train G to maximize log(D(G(z)) instead of minimizing log(1-D(G(z)))\n",
        "        # For the reason, see the last paragraph of section 3. https://arxiv.org/pdf/1406.2661.pdf\n",
        "        g_loss = criterion(outputs, real_labels)\n",
        "        \n",
        "        # Backprop and optimize\n",
        "        reset_grad()\n",
        "        g_loss.backward()\n",
        "        g_optimizer.step()\n",
        "        \n",
        "        if (i+1) % 200 == 0:\n",
        "            print('Epoch [{}/{}], Step [{}/{}], d_loss: {:.4f}, g_loss: {:.4f}, D(x): {:.2f}, D(G(z)): {:.2f}' \n",
        "                  .format(epoch, num_epochs, i+1, total_step, d_loss.item(), g_loss.item(), \n",
        "                          real_score.mean().item(), fake_score.mean().item()))\n",
        "    # Save real images\n",
        "    if (epoch+1) == 1:\n",
        "        images = images.reshape(images.size(0), 1, 28, 28)\n",
        "        save_image(denorm(images), os.path.join(sample_dir, 'real_images.png'))\n",
        "    \n",
        "    # Save sampled images\n",
        "    fake_images = fake_images.reshape(fake_images.size(0), 1, 28, 28)\n",
        "    save_image(denorm(fake_images), os.path.join(sample_dir, 'fake_images-{}.png'.format(epoch+1)))\n"
      ],
      "execution_count": 0,
      "outputs": [
        {
          "output_type": "stream",
          "text": [
            "Epoch [0/200], Step [200/600], d_loss: 0.2695, g_loss: 3.7770, D(x): 0.86, D(G(z)): 0.10\n",
            "Epoch [0/200], Step [400/600], d_loss: 0.3071, g_loss: 5.0522, D(x): 0.84, D(G(z)): 0.10\n",
            "Epoch [0/200], Step [600/600], d_loss: 0.1391, g_loss: 4.1107, D(x): 0.93, D(G(z)): 0.06\n",
            "Epoch [1/200], Step [200/600], d_loss: 0.2468, g_loss: 3.8575, D(x): 0.90, D(G(z)): 0.10\n",
            "Epoch [1/200], Step [400/600], d_loss: 1.8027, g_loss: 0.7113, D(x): 0.57, D(G(z)): 0.62\n",
            "Epoch [1/200], Step [600/600], d_loss: 0.5841, g_loss: 3.8936, D(x): 0.80, D(G(z)): 0.15\n",
            "Epoch [2/200], Step [200/600], d_loss: 0.6494, g_loss: 2.3000, D(x): 0.76, D(G(z)): 0.21\n",
            "Epoch [2/200], Step [400/600], d_loss: 0.2453, g_loss: 3.0713, D(x): 0.91, D(G(z)): 0.11\n",
            "Epoch [2/200], Step [600/600], d_loss: 0.2435, g_loss: 2.9128, D(x): 0.89, D(G(z)): 0.10\n",
            "Epoch [3/200], Step [200/600], d_loss: 0.3516, g_loss: 2.7974, D(x): 0.89, D(G(z)): 0.15\n",
            "Epoch [3/200], Step [400/600], d_loss: 0.6184, g_loss: 2.1375, D(x): 0.80, D(G(z)): 0.24\n",
            "Epoch [3/200], Step [600/600], d_loss: 0.1943, g_loss: 3.1658, D(x): 0.95, D(G(z)): 0.11\n",
            "Epoch [4/200], Step [200/600], d_loss: 0.1755, g_loss: 4.2308, D(x): 0.94, D(G(z)): 0.08\n",
            "Epoch [4/200], Step [400/600], d_loss: 0.4319, g_loss: 3.8324, D(x): 0.86, D(G(z)): 0.11\n",
            "Epoch [4/200], Step [600/600], d_loss: 0.4882, g_loss: 4.0793, D(x): 0.82, D(G(z)): 0.14\n",
            "Epoch [5/200], Step [200/600], d_loss: 0.2152, g_loss: 4.6566, D(x): 0.90, D(G(z)): 0.05\n",
            "Epoch [5/200], Step [400/600], d_loss: 0.3924, g_loss: 4.6268, D(x): 0.89, D(G(z)): 0.15\n",
            "Epoch [5/200], Step [600/600], d_loss: 0.2944, g_loss: 3.7921, D(x): 0.89, D(G(z)): 0.09\n",
            "Epoch [6/200], Step [200/600], d_loss: 0.3249, g_loss: 5.0545, D(x): 0.89, D(G(z)): 0.09\n",
            "Epoch [6/200], Step [400/600], d_loss: 0.3450, g_loss: 4.2185, D(x): 0.90, D(G(z)): 0.13\n",
            "Epoch [6/200], Step [600/600], d_loss: 0.1520, g_loss: 3.7581, D(x): 0.93, D(G(z)): 0.04\n",
            "Epoch [7/200], Step [200/600], d_loss: 0.1026, g_loss: 5.2687, D(x): 0.97, D(G(z)): 0.02\n",
            "Epoch [7/200], Step [400/600], d_loss: 0.2509, g_loss: 5.9093, D(x): 0.92, D(G(z)): 0.09\n",
            "Epoch [7/200], Step [600/600], d_loss: 0.2140, g_loss: 3.0731, D(x): 0.93, D(G(z)): 0.09\n",
            "Epoch [8/200], Step [200/600], d_loss: 0.2401, g_loss: 5.1567, D(x): 0.93, D(G(z)): 0.06\n",
            "Epoch [8/200], Step [400/600], d_loss: 0.1945, g_loss: 4.7448, D(x): 0.92, D(G(z)): 0.03\n",
            "Epoch [8/200], Step [600/600], d_loss: 0.2114, g_loss: 4.8945, D(x): 0.92, D(G(z)): 0.06\n",
            "Epoch [9/200], Step [200/600], d_loss: 0.4859, g_loss: 7.8730, D(x): 0.85, D(G(z)): 0.03\n",
            "Epoch [9/200], Step [400/600], d_loss: 0.2091, g_loss: 4.2808, D(x): 0.95, D(G(z)): 0.08\n",
            "Epoch [9/200], Step [600/600], d_loss: 0.1433, g_loss: 4.3620, D(x): 0.95, D(G(z)): 0.05\n",
            "Epoch [10/200], Step [200/600], d_loss: 0.1792, g_loss: 5.8393, D(x): 0.94, D(G(z)): 0.04\n",
            "Epoch [10/200], Step [400/600], d_loss: 0.1000, g_loss: 6.7938, D(x): 0.97, D(G(z)): 0.05\n",
            "Epoch [10/200], Step [600/600], d_loss: 0.1059, g_loss: 4.6546, D(x): 0.98, D(G(z)): 0.06\n",
            "Epoch [11/200], Step [200/600], d_loss: 0.1741, g_loss: 4.2899, D(x): 0.94, D(G(z)): 0.06\n",
            "Epoch [11/200], Step [400/600], d_loss: 0.2164, g_loss: 6.6126, D(x): 0.96, D(G(z)): 0.02\n",
            "Epoch [11/200], Step [600/600], d_loss: 0.1451, g_loss: 4.3079, D(x): 0.94, D(G(z)): 0.04\n",
            "Epoch [12/200], Step [200/600], d_loss: 0.2296, g_loss: 4.6442, D(x): 0.94, D(G(z)): 0.08\n",
            "Epoch [12/200], Step [400/600], d_loss: 0.0449, g_loss: 6.5496, D(x): 0.99, D(G(z)): 0.03\n",
            "Epoch [12/200], Step [600/600], d_loss: 0.0818, g_loss: 4.7298, D(x): 0.99, D(G(z)): 0.06\n",
            "Epoch [13/200], Step [200/600], d_loss: 0.1125, g_loss: 5.2735, D(x): 0.97, D(G(z)): 0.04\n",
            "Epoch [13/200], Step [400/600], d_loss: 0.1559, g_loss: 5.8817, D(x): 0.96, D(G(z)): 0.03\n",
            "Epoch [13/200], Step [600/600], d_loss: 0.1175, g_loss: 6.5980, D(x): 0.99, D(G(z)): 0.07\n",
            "Epoch [14/200], Step [200/600], d_loss: 0.1000, g_loss: 5.7619, D(x): 0.96, D(G(z)): 0.01\n",
            "Epoch [14/200], Step [400/600], d_loss: 0.0562, g_loss: 5.9808, D(x): 0.99, D(G(z)): 0.04\n",
            "Epoch [14/200], Step [600/600], d_loss: 0.1175, g_loss: 5.1450, D(x): 0.97, D(G(z)): 0.06\n",
            "Epoch [15/200], Step [200/600], d_loss: 0.1586, g_loss: 6.5542, D(x): 0.97, D(G(z)): 0.04\n",
            "Epoch [15/200], Step [400/600], d_loss: 0.0951, g_loss: 5.1263, D(x): 0.99, D(G(z)): 0.06\n",
            "Epoch [15/200], Step [600/600], d_loss: 0.1649, g_loss: 6.9288, D(x): 0.94, D(G(z)): 0.04\n",
            "Epoch [16/200], Step [200/600], d_loss: 0.0725, g_loss: 7.2865, D(x): 0.98, D(G(z)): 0.03\n",
            "Epoch [16/200], Step [400/600], d_loss: 0.1796, g_loss: 4.8389, D(x): 0.98, D(G(z)): 0.07\n",
            "Epoch [16/200], Step [600/600], d_loss: 0.0794, g_loss: 6.5492, D(x): 0.97, D(G(z)): 0.03\n",
            "Epoch [17/200], Step [200/600], d_loss: 0.1190, g_loss: 5.8764, D(x): 0.98, D(G(z)): 0.02\n",
            "Epoch [17/200], Step [400/600], d_loss: 0.1045, g_loss: 6.3246, D(x): 0.97, D(G(z)): 0.04\n",
            "Epoch [17/200], Step [600/600], d_loss: 0.0355, g_loss: 8.1813, D(x): 0.99, D(G(z)): 0.02\n",
            "Epoch [18/200], Step [200/600], d_loss: 0.1923, g_loss: 6.5061, D(x): 0.91, D(G(z)): 0.02\n",
            "Epoch [18/200], Step [400/600], d_loss: 0.0536, g_loss: 5.6917, D(x): 0.99, D(G(z)): 0.03\n",
            "Epoch [18/200], Step [600/600], d_loss: 0.2137, g_loss: 6.0579, D(x): 0.93, D(G(z)): 0.02\n",
            "Epoch [19/200], Step [200/600], d_loss: 0.1195, g_loss: 8.1172, D(x): 0.97, D(G(z)): 0.02\n",
            "Epoch [19/200], Step [400/600], d_loss: 0.0728, g_loss: 6.8896, D(x): 0.97, D(G(z)): 0.01\n",
            "Epoch [19/200], Step [600/600], d_loss: 0.1346, g_loss: 7.3471, D(x): 0.95, D(G(z)): 0.01\n",
            "Epoch [20/200], Step [200/600], d_loss: 0.2297, g_loss: 5.6149, D(x): 0.96, D(G(z)): 0.04\n",
            "Epoch [20/200], Step [400/600], d_loss: 0.1555, g_loss: 4.5474, D(x): 0.96, D(G(z)): 0.06\n",
            "Epoch [20/200], Step [600/600], d_loss: 0.1504, g_loss: 7.6709, D(x): 0.95, D(G(z)): 0.01\n",
            "Epoch [21/200], Step [200/600], d_loss: 0.0474, g_loss: 7.2854, D(x): 0.98, D(G(z)): 0.01\n",
            "Epoch [21/200], Step [400/600], d_loss: 0.1413, g_loss: 6.6523, D(x): 0.97, D(G(z)): 0.01\n",
            "Epoch [21/200], Step [600/600], d_loss: 0.0349, g_loss: 8.4191, D(x): 0.99, D(G(z)): 0.02\n",
            "Epoch [22/200], Step [200/600], d_loss: 0.1823, g_loss: 5.2862, D(x): 0.97, D(G(z)): 0.07\n",
            "Epoch [22/200], Step [400/600], d_loss: 0.0921, g_loss: 6.6085, D(x): 0.98, D(G(z)): 0.05\n",
            "Epoch [22/200], Step [600/600], d_loss: 0.0327, g_loss: 5.5472, D(x): 0.99, D(G(z)): 0.02\n",
            "Epoch [23/200], Step [200/600], d_loss: 0.1244, g_loss: 5.6474, D(x): 0.98, D(G(z)): 0.06\n",
            "Epoch [23/200], Step [400/600], d_loss: 0.2345, g_loss: 6.5805, D(x): 0.93, D(G(z)): 0.02\n",
            "Epoch [23/200], Step [600/600], d_loss: 0.0735, g_loss: 5.6556, D(x): 1.00, D(G(z)): 0.05\n",
            "Epoch [24/200], Step [200/600], d_loss: 0.1881, g_loss: 6.7039, D(x): 0.97, D(G(z)): 0.06\n",
            "Epoch [24/200], Step [400/600], d_loss: 0.0625, g_loss: 5.7262, D(x): 0.98, D(G(z)): 0.02\n",
            "Epoch [24/200], Step [600/600], d_loss: 0.0761, g_loss: 4.9188, D(x): 0.99, D(G(z)): 0.05\n",
            "Epoch [25/200], Step [200/600], d_loss: 0.2213, g_loss: 7.1989, D(x): 0.94, D(G(z)): 0.03\n",
            "Epoch [25/200], Step [400/600], d_loss: 0.0817, g_loss: 7.1000, D(x): 0.96, D(G(z)): 0.01\n",
            "Epoch [25/200], Step [600/600], d_loss: 0.2828, g_loss: 5.6271, D(x): 0.93, D(G(z)): 0.05\n",
            "Epoch [26/200], Step [200/600], d_loss: 0.1127, g_loss: 7.0155, D(x): 0.97, D(G(z)): 0.02\n",
            "Epoch [26/200], Step [400/600], d_loss: 0.1759, g_loss: 4.6960, D(x): 0.95, D(G(z)): 0.03\n",
            "Epoch [26/200], Step [600/600], d_loss: 0.0650, g_loss: 6.8251, D(x): 0.97, D(G(z)): 0.02\n",
            "Epoch [27/200], Step [200/600], d_loss: 0.0216, g_loss: 6.5162, D(x): 0.99, D(G(z)): 0.01\n",
            "Epoch [27/200], Step [400/600], d_loss: 0.1341, g_loss: 5.2332, D(x): 0.97, D(G(z)): 0.05\n",
            "Epoch [27/200], Step [600/600], d_loss: 0.0927, g_loss: 5.9052, D(x): 0.98, D(G(z)): 0.04\n",
            "Epoch [28/200], Step [200/600], d_loss: 0.1010, g_loss: 7.0069, D(x): 0.98, D(G(z)): 0.04\n",
            "Epoch [28/200], Step [400/600], d_loss: 0.1299, g_loss: 4.4113, D(x): 0.99, D(G(z)): 0.09\n",
            "Epoch [28/200], Step [600/600], d_loss: 0.0826, g_loss: 6.4164, D(x): 0.98, D(G(z)): 0.04\n",
            "Epoch [29/200], Step [200/600], d_loss: 0.0705, g_loss: 6.1425, D(x): 0.97, D(G(z)): 0.02\n",
            "Epoch [29/200], Step [400/600], d_loss: 0.0951, g_loss: 6.0184, D(x): 0.98, D(G(z)): 0.04\n",
            "Epoch [29/200], Step [600/600], d_loss: 0.0472, g_loss: 7.5565, D(x): 0.97, D(G(z)): 0.01\n",
            "Epoch [30/200], Step [200/600], d_loss: 0.0739, g_loss: 6.4304, D(x): 0.98, D(G(z)): 0.02\n",
            "Epoch [30/200], Step [400/600], d_loss: 0.0707, g_loss: 9.2142, D(x): 0.98, D(G(z)): 0.03\n",
            "Epoch [30/200], Step [600/600], d_loss: 0.1008, g_loss: 6.4012, D(x): 0.98, D(G(z)): 0.03\n",
            "Epoch [31/200], Step [200/600], d_loss: 0.1362, g_loss: 5.1720, D(x): 0.98, D(G(z)): 0.08\n",
            "Epoch [31/200], Step [400/600], d_loss: 0.0677, g_loss: 8.2938, D(x): 0.99, D(G(z)): 0.03\n",
            "Epoch [31/200], Step [600/600], d_loss: 0.0462, g_loss: 6.8852, D(x): 0.99, D(G(z)): 0.01\n",
            "Epoch [32/200], Step [200/600], d_loss: 0.0707, g_loss: 6.3674, D(x): 1.00, D(G(z)): 0.05\n",
            "Epoch [32/200], Step [400/600], d_loss: 0.0538, g_loss: 6.8192, D(x): 0.97, D(G(z)): 0.01\n",
            "Epoch [32/200], Step [600/600], d_loss: 0.1034, g_loss: 8.0996, D(x): 0.96, D(G(z)): 0.02\n",
            "Epoch [33/200], Step [200/600], d_loss: 0.1925, g_loss: 7.3099, D(x): 0.99, D(G(z)): 0.09\n",
            "Epoch [33/200], Step [400/600], d_loss: 0.0800, g_loss: 8.6010, D(x): 0.99, D(G(z)): 0.04\n",
            "Epoch [33/200], Step [600/600], d_loss: 0.1459, g_loss: 5.3155, D(x): 0.98, D(G(z)): 0.07\n",
            "Epoch [34/200], Step [200/600], d_loss: 0.0945, g_loss: 6.1019, D(x): 0.97, D(G(z)): 0.03\n",
            "Epoch [34/200], Step [400/600], d_loss: 0.0625, g_loss: 7.9233, D(x): 0.98, D(G(z)): 0.02\n",
            "Epoch [34/200], Step [600/600], d_loss: 0.0651, g_loss: 8.0949, D(x): 0.97, D(G(z)): 0.01\n",
            "Epoch [35/200], Step [200/600], d_loss: 0.0849, g_loss: 10.2238, D(x): 0.95, D(G(z)): 0.01\n",
            "Epoch [35/200], Step [400/600], d_loss: 0.0372, g_loss: 6.8770, D(x): 0.99, D(G(z)): 0.02\n",
            "Epoch [35/200], Step [600/600], d_loss: 0.0798, g_loss: 5.9412, D(x): 0.99, D(G(z)): 0.04\n",
            "Epoch [36/200], Step [200/600], d_loss: 0.1073, g_loss: 6.2386, D(x): 0.98, D(G(z)): 0.03\n",
            "Epoch [36/200], Step [400/600], d_loss: 0.0298, g_loss: 8.5840, D(x): 0.99, D(G(z)): 0.01\n",
            "Epoch [36/200], Step [600/600], d_loss: 0.1320, g_loss: 7.0357, D(x): 0.95, D(G(z)): 0.01\n",
            "Epoch [37/200], Step [200/600], d_loss: 0.1723, g_loss: 5.8987, D(x): 0.98, D(G(z)): 0.06\n",
            "Epoch [37/200], Step [400/600], d_loss: 0.1054, g_loss: 8.0025, D(x): 0.96, D(G(z)): 0.02\n",
            "Epoch [37/200], Step [600/600], d_loss: 0.0649, g_loss: 6.6640, D(x): 0.99, D(G(z)): 0.04\n",
            "Epoch [38/200], Step [200/600], d_loss: 0.0464, g_loss: 6.7458, D(x): 0.98, D(G(z)): 0.02\n",
            "Epoch [38/200], Step [400/600], d_loss: 0.0197, g_loss: 7.5391, D(x): 0.99, D(G(z)): 0.01\n",
            "Epoch [38/200], Step [600/600], d_loss: 0.1918, g_loss: 5.3501, D(x): 0.95, D(G(z)): 0.05\n",
            "Epoch [39/200], Step [200/600], d_loss: 0.1447, g_loss: 8.2481, D(x): 0.95, D(G(z)): 0.02\n",
            "Epoch [39/200], Step [400/600], d_loss: 0.1241, g_loss: 7.6037, D(x): 0.96, D(G(z)): 0.02\n",
            "Epoch [39/200], Step [600/600], d_loss: 0.0865, g_loss: 6.2557, D(x): 0.97, D(G(z)): 0.01\n",
            "Epoch [40/200], Step [200/600], d_loss: 0.0836, g_loss: 5.9618, D(x): 0.98, D(G(z)): 0.04\n",
            "Epoch [40/200], Step [400/600], d_loss: 0.1121, g_loss: 6.2231, D(x): 0.97, D(G(z)): 0.04\n",
            "Epoch [40/200], Step [600/600], d_loss: 0.0947, g_loss: 7.5979, D(x): 0.97, D(G(z)): 0.02\n",
            "Epoch [41/200], Step [200/600], d_loss: 0.0476, g_loss: 6.9041, D(x): 0.98, D(G(z)): 0.02\n",
            "Epoch [41/200], Step [400/600], d_loss: 0.1161, g_loss: 6.8380, D(x): 0.97, D(G(z)): 0.03\n",
            "Epoch [41/200], Step [600/600], d_loss: 0.0578, g_loss: 6.5548, D(x): 0.98, D(G(z)): 0.02\n",
            "Epoch [42/200], Step [200/600], d_loss: 0.1049, g_loss: 6.5172, D(x): 0.96, D(G(z)): 0.03\n",
            "Epoch [42/200], Step [400/600], d_loss: 0.0757, g_loss: 8.1281, D(x): 0.97, D(G(z)): 0.02\n",
            "Epoch [42/200], Step [600/600], d_loss: 0.0937, g_loss: 7.0439, D(x): 0.98, D(G(z)): 0.04\n",
            "Epoch [43/200], Step [200/600], d_loss: 0.0935, g_loss: 5.3967, D(x): 0.97, D(G(z)): 0.04\n",
            "Epoch [43/200], Step [400/600], d_loss: 0.1131, g_loss: 9.0265, D(x): 0.95, D(G(z)): 0.01\n",
            "Epoch [43/200], Step [600/600], d_loss: 0.0951, g_loss: 7.7970, D(x): 0.97, D(G(z)): 0.02\n",
            "Epoch [44/200], Step [200/600], d_loss: 0.0501, g_loss: 7.5657, D(x): 0.98, D(G(z)): 0.02\n",
            "Epoch [44/200], Step [400/600], d_loss: 0.0638, g_loss: 6.8976, D(x): 0.98, D(G(z)): 0.02\n",
            "Epoch [44/200], Step [600/600], d_loss: 0.2656, g_loss: 6.1188, D(x): 0.94, D(G(z)): 0.05\n",
            "Epoch [45/200], Step [200/600], d_loss: 0.0528, g_loss: 6.3453, D(x): 0.99, D(G(z)): 0.03\n",
            "Epoch [45/200], Step [400/600], d_loss: 0.1770, g_loss: 5.4561, D(x): 0.94, D(G(z)): 0.05\n",
            "Epoch [45/200], Step [600/600], d_loss: 0.1116, g_loss: 6.9322, D(x): 0.99, D(G(z)): 0.07\n",
            "Epoch [46/200], Step [200/600], d_loss: 0.0921, g_loss: 7.3189, D(x): 0.98, D(G(z)): 0.04\n",
            "Epoch [46/200], Step [400/600], d_loss: 0.1289, g_loss: 6.2611, D(x): 0.94, D(G(z)): 0.03\n",
            "Epoch [46/200], Step [600/600], d_loss: 0.0757, g_loss: 6.2196, D(x): 0.98, D(G(z)): 0.04\n",
            "Epoch [47/200], Step [200/600], d_loss: 0.1225, g_loss: 5.6703, D(x): 0.97, D(G(z)): 0.05\n",
            "Epoch [47/200], Step [400/600], d_loss: 0.0783, g_loss: 7.8346, D(x): 0.97, D(G(z)): 0.03\n",
            "Epoch [47/200], Step [600/600], d_loss: 0.1751, g_loss: 6.9259, D(x): 0.94, D(G(z)): 0.02\n",
            "Epoch [48/200], Step [200/600], d_loss: 0.0668, g_loss: 6.3160, D(x): 0.98, D(G(z)): 0.02\n",
            "Epoch [48/200], Step [400/600], d_loss: 0.0387, g_loss: 7.6705, D(x): 0.98, D(G(z)): 0.02\n",
            "Epoch [48/200], Step [600/600], d_loss: 0.1617, g_loss: 5.6233, D(x): 0.98, D(G(z)): 0.08\n",
            "Epoch [49/200], Step [200/600], d_loss: 0.0625, g_loss: 6.2801, D(x): 0.98, D(G(z)): 0.02\n",
            "Epoch [49/200], Step [400/600], d_loss: 0.1606, g_loss: 5.1296, D(x): 0.98, D(G(z)): 0.08\n",
            "Epoch [49/200], Step [600/600], d_loss: 0.0854, g_loss: 5.9521, D(x): 0.97, D(G(z)): 0.04\n",
            "Epoch [50/200], Step [200/600], d_loss: 0.1566, g_loss: 5.7579, D(x): 0.96, D(G(z)): 0.05\n",
            "Epoch [50/200], Step [400/600], d_loss: 0.1627, g_loss: 6.7130, D(x): 0.99, D(G(z)): 0.08\n",
            "Epoch [50/200], Step [600/600], d_loss: 0.3544, g_loss: 6.8368, D(x): 0.91, D(G(z)): 0.04\n",
            "Epoch [51/200], Step [200/600], d_loss: 0.2284, g_loss: 7.0187, D(x): 0.94, D(G(z)): 0.03\n",
            "Epoch [51/200], Step [400/600], d_loss: 0.0777, g_loss: 6.7414, D(x): 0.97, D(G(z)): 0.02\n",
            "Epoch [51/200], Step [600/600], d_loss: 0.0627, g_loss: 5.4379, D(x): 0.99, D(G(z)): 0.04\n",
            "Epoch [52/200], Step [200/600], d_loss: 0.1409, g_loss: 6.2523, D(x): 0.96, D(G(z)): 0.04\n",
            "Epoch [52/200], Step [400/600], d_loss: 0.1338, g_loss: 5.3986, D(x): 0.97, D(G(z)): 0.05\n",
            "Epoch [52/200], Step [600/600], d_loss: 0.1055, g_loss: 6.4925, D(x): 0.97, D(G(z)): 0.04\n",
            "Epoch [53/200], Step [200/600], d_loss: 0.2116, g_loss: 6.0541, D(x): 0.97, D(G(z)): 0.08\n",
            "Epoch [53/200], Step [400/600], d_loss: 0.1927, g_loss: 6.3641, D(x): 0.92, D(G(z)): 0.03\n",
            "Epoch [53/200], Step [600/600], d_loss: 0.0845, g_loss: 7.1820, D(x): 0.98, D(G(z)): 0.04\n",
            "Epoch [54/200], Step [200/600], d_loss: 0.0969, g_loss: 4.9462, D(x): 0.96, D(G(z)): 0.03\n",
            "Epoch [54/200], Step [400/600], d_loss: 0.0917, g_loss: 6.3942, D(x): 0.96, D(G(z)): 0.03\n",
            "Epoch [54/200], Step [600/600], d_loss: 0.1207, g_loss: 6.0830, D(x): 0.97, D(G(z)): 0.04\n",
            "Epoch [55/200], Step [200/600], d_loss: 0.1792, g_loss: 8.0616, D(x): 0.95, D(G(z)): 0.03\n",
            "Epoch [55/200], Step [400/600], d_loss: 0.1018, g_loss: 6.9049, D(x): 0.97, D(G(z)): 0.04\n",
            "Epoch [55/200], Step [600/600], d_loss: 0.1482, g_loss: 5.2129, D(x): 0.98, D(G(z)): 0.07\n",
            "Epoch [56/200], Step [200/600], d_loss: 0.1083, g_loss: 5.3599, D(x): 0.99, D(G(z)): 0.06\n",
            "Epoch [56/200], Step [400/600], d_loss: 0.1863, g_loss: 6.7068, D(x): 0.96, D(G(z)): 0.07\n",
            "Epoch [56/200], Step [600/600], d_loss: 0.2216, g_loss: 5.9486, D(x): 0.93, D(G(z)): 0.02\n",
            "Epoch [57/200], Step [200/600], d_loss: 0.0779, g_loss: 6.7967, D(x): 0.98, D(G(z)): 0.04\n",
            "Epoch [57/200], Step [400/600], d_loss: 0.1789, g_loss: 6.0100, D(x): 0.92, D(G(z)): 0.02\n",
            "Epoch [57/200], Step [600/600], d_loss: 0.2822, g_loss: 6.2472, D(x): 0.90, D(G(z)): 0.03\n",
            "Epoch [58/200], Step [200/600], d_loss: 0.1712, g_loss: 6.8734, D(x): 0.95, D(G(z)): 0.04\n",
            "Epoch [58/200], Step [400/600], d_loss: 0.0527, g_loss: 6.8962, D(x): 0.98, D(G(z)): 0.02\n",
            "Epoch [58/200], Step [600/600], d_loss: 0.0766, g_loss: 6.9982, D(x): 0.96, D(G(z)): 0.03\n",
            "Epoch [59/200], Step [200/600], d_loss: 0.0987, g_loss: 5.5040, D(x): 0.97, D(G(z)): 0.04\n",
            "Epoch [59/200], Step [400/600], d_loss: 0.1631, g_loss: 7.3351, D(x): 0.93, D(G(z)): 0.03\n",
            "Epoch [59/200], Step [600/600], d_loss: 0.1580, g_loss: 5.2993, D(x): 0.96, D(G(z)): 0.07\n",
            "Epoch [60/200], Step [200/600], d_loss: 0.0648, g_loss: 6.2791, D(x): 0.97, D(G(z)): 0.02\n",
            "Epoch [60/200], Step [400/600], d_loss: 0.1609, g_loss: 6.1044, D(x): 0.94, D(G(z)): 0.02\n",
            "Epoch [60/200], Step [600/600], d_loss: 0.1152, g_loss: 5.6167, D(x): 0.96, D(G(z)): 0.03\n",
            "Epoch [61/200], Step [200/600], d_loss: 0.0964, g_loss: 8.3026, D(x): 0.97, D(G(z)): 0.03\n",
            "Epoch [61/200], Step [400/600], d_loss: 0.1450, g_loss: 5.7362, D(x): 0.96, D(G(z)): 0.05\n",
            "Epoch [61/200], Step [600/600], d_loss: 0.1045, g_loss: 5.8156, D(x): 0.98, D(G(z)): 0.05\n",
            "Epoch [62/200], Step [200/600], d_loss: 0.1607, g_loss: 5.5461, D(x): 0.96, D(G(z)): 0.06\n",
            "Epoch [62/200], Step [400/600], d_loss: 0.1288, g_loss: 6.2451, D(x): 0.95, D(G(z)): 0.03\n",
            "Epoch [62/200], Step [600/600], d_loss: 0.1471, g_loss: 8.0289, D(x): 0.96, D(G(z)): 0.03\n",
            "Epoch [63/200], Step [200/600], d_loss: 0.0921, g_loss: 4.5772, D(x): 0.98, D(G(z)): 0.04\n",
            "Epoch [63/200], Step [400/600], d_loss: 0.0987, g_loss: 6.7737, D(x): 0.95, D(G(z)): 0.02\n",
            "Epoch [63/200], Step [600/600], d_loss: 0.1120, g_loss: 6.8757, D(x): 0.95, D(G(z)): 0.02\n",
            "Epoch [64/200], Step [200/600], d_loss: 0.1014, g_loss: 5.6379, D(x): 0.97, D(G(z)): 0.05\n",
            "Epoch [64/200], Step [400/600], d_loss: 0.0881, g_loss: 7.9650, D(x): 0.96, D(G(z)): 0.02\n",
            "Epoch [64/200], Step [600/600], d_loss: 0.2116, g_loss: 7.1919, D(x): 0.92, D(G(z)): 0.02\n",
            "Epoch [65/200], Step [200/600], d_loss: 0.2507, g_loss: 5.6295, D(x): 0.93, D(G(z)): 0.06\n",
            "Epoch [65/200], Step [400/600], d_loss: 0.1353, g_loss: 5.6810, D(x): 0.96, D(G(z)): 0.04\n",
            "Epoch [65/200], Step [600/600], d_loss: 0.1216, g_loss: 6.7907, D(x): 0.95, D(G(z)): 0.03\n",
            "Epoch [66/200], Step [200/600], d_loss: 0.1032, g_loss: 7.7190, D(x): 0.97, D(G(z)): 0.05\n",
            "Epoch [66/200], Step [400/600], d_loss: 0.0798, g_loss: 5.4399, D(x): 0.96, D(G(z)): 0.02\n",
            "Epoch [66/200], Step [600/600], d_loss: 0.1964, g_loss: 6.3958, D(x): 0.95, D(G(z)): 0.05\n",
            "Epoch [67/200], Step [200/600], d_loss: 0.1756, g_loss: 4.3501, D(x): 0.96, D(G(z)): 0.09\n",
            "Epoch [67/200], Step [400/600], d_loss: 0.1389, g_loss: 7.2912, D(x): 0.95, D(G(z)): 0.03\n",
            "Epoch [67/200], Step [600/600], d_loss: 0.1253, g_loss: 6.7933, D(x): 0.96, D(G(z)): 0.06\n",
            "Epoch [68/200], Step [200/600], d_loss: 0.0942, g_loss: 6.6615, D(x): 0.97, D(G(z)): 0.05\n",
            "Epoch [68/200], Step [400/600], d_loss: 0.1634, g_loss: 6.5613, D(x): 0.94, D(G(z)): 0.04\n",
            "Epoch [68/200], Step [600/600], d_loss: 0.1272, g_loss: 6.4423, D(x): 0.94, D(G(z)): 0.03\n",
            "Epoch [69/200], Step [200/600], d_loss: 0.1140, g_loss: 5.4847, D(x): 0.98, D(G(z)): 0.03\n",
            "Epoch [69/200], Step [400/600], d_loss: 0.1560, g_loss: 3.9541, D(x): 0.98, D(G(z)): 0.07\n",
            "Epoch [69/200], Step [600/600], d_loss: 0.0897, g_loss: 6.0381, D(x): 0.97, D(G(z)): 0.04\n",
            "Epoch [70/200], Step [200/600], d_loss: 0.1448, g_loss: 5.1978, D(x): 0.95, D(G(z)): 0.06\n",
            "Epoch [70/200], Step [400/600], d_loss: 0.1248, g_loss: 5.6732, D(x): 0.97, D(G(z)): 0.06\n",
            "Epoch [70/200], Step [600/600], d_loss: 0.2100, g_loss: 7.0924, D(x): 0.92, D(G(z)): 0.03\n",
            "Epoch [71/200], Step [200/600], d_loss: 0.1190, g_loss: 6.1583, D(x): 0.94, D(G(z)): 0.02\n",
            "Epoch [71/200], Step [400/600], d_loss: 0.1175, g_loss: 6.6677, D(x): 0.98, D(G(z)): 0.06\n",
            "Epoch [71/200], Step [600/600], d_loss: 0.1566, g_loss: 5.0436, D(x): 0.97, D(G(z)): 0.09\n",
            "Epoch [72/200], Step [200/600], d_loss: 0.1996, g_loss: 4.3591, D(x): 0.97, D(G(z)): 0.11\n",
            "Epoch [72/200], Step [400/600], d_loss: 0.1977, g_loss: 5.1251, D(x): 0.95, D(G(z)): 0.06\n",
            "Epoch [72/200], Step [600/600], d_loss: 0.1463, g_loss: 6.3485, D(x): 0.93, D(G(z)): 0.02\n",
            "Epoch [73/200], Step [200/600], d_loss: 0.1733, g_loss: 5.7644, D(x): 0.96, D(G(z)): 0.08\n",
            "Epoch [73/200], Step [400/600], d_loss: 0.1182, g_loss: 6.8348, D(x): 0.94, D(G(z)): 0.01\n",
            "Epoch [73/200], Step [600/600], d_loss: 0.1528, g_loss: 5.7462, D(x): 0.99, D(G(z)): 0.09\n",
            "Epoch [74/200], Step [200/600], d_loss: 0.1316, g_loss: 5.5504, D(x): 0.96, D(G(z)): 0.05\n",
            "Epoch [74/200], Step [400/600], d_loss: 0.1465, g_loss: 6.3076, D(x): 0.94, D(G(z)): 0.03\n",
            "Epoch [74/200], Step [600/600], d_loss: 0.1752, g_loss: 5.9457, D(x): 0.92, D(G(z)): 0.04\n",
            "Epoch [75/200], Step [200/600], d_loss: 0.1631, g_loss: 6.3814, D(x): 0.95, D(G(z)): 0.03\n",
            "Epoch [75/200], Step [400/600], d_loss: 0.1885, g_loss: 4.7810, D(x): 0.97, D(G(z)): 0.09\n",
            "Epoch [75/200], Step [600/600], d_loss: 0.1370, g_loss: 6.2710, D(x): 0.95, D(G(z)): 0.03\n",
            "Epoch [76/200], Step [200/600], d_loss: 0.1403, g_loss: 5.7200, D(x): 0.94, D(G(z)): 0.03\n",
            "Epoch [76/200], Step [400/600], d_loss: 0.1141, g_loss: 4.9127, D(x): 0.97, D(G(z)): 0.07\n",
            "Epoch [76/200], Step [600/600], d_loss: 0.1334, g_loss: 5.4366, D(x): 0.97, D(G(z)): 0.06\n",
            "Epoch [77/200], Step [200/600], d_loss: 0.1604, g_loss: 5.0005, D(x): 0.94, D(G(z)): 0.06\n",
            "Epoch [77/200], Step [400/600], d_loss: 0.2418, g_loss: 5.5066, D(x): 0.92, D(G(z)): 0.05\n",
            "Epoch [77/200], Step [600/600], d_loss: 0.1720, g_loss: 5.6010, D(x): 0.96, D(G(z)): 0.04\n",
            "Epoch [78/200], Step [200/600], d_loss: 0.1627, g_loss: 5.5402, D(x): 0.96, D(G(z)): 0.08\n",
            "Epoch [78/200], Step [400/600], d_loss: 0.2586, g_loss: 5.2663, D(x): 0.91, D(G(z)): 0.06\n",
            "Epoch [78/200], Step [600/600], d_loss: 0.1641, g_loss: 5.7682, D(x): 0.96, D(G(z)): 0.08\n",
            "Epoch [79/200], Step [200/600], d_loss: 0.1869, g_loss: 5.2829, D(x): 0.91, D(G(z)): 0.03\n",
            "Epoch [79/200], Step [400/600], d_loss: 0.2035, g_loss: 4.9647, D(x): 0.91, D(G(z)): 0.04\n",
            "Epoch [79/200], Step [600/600], d_loss: 0.1658, g_loss: 5.3199, D(x): 0.95, D(G(z)): 0.07\n"
          ],
          "name": "stdout"
        }
      ]
    },
    {
      "metadata": {
        "id": "Q_n2WdQr42oZ",
        "colab_type": "code",
        "colab": {}
      },
      "cell_type": "code",
      "source": [
        ""
      ],
      "execution_count": 0,
      "outputs": []
    },
    {
      "metadata": {
        "id": "HMRSc05U4z8g",
        "colab_type": "code",
        "colab": {}
      },
      "cell_type": "code",
      "source": [
        "    \n",
        "    "
      ],
      "execution_count": 0,
      "outputs": []
    },
    {
      "metadata": {
        "id": "838FqfhF4xlK",
        "colab_type": "code",
        "colab": {}
      },
      "cell_type": "code",
      "source": [
        "# Save the model checkpoints \n",
        "torch.save(G.state_dict(), 'G.ckpt')\n",
        "torch.save(D.state_dict(), 'D.ckpt')"
      ],
      "execution_count": 0,
      "outputs": []
    }
  ]
}